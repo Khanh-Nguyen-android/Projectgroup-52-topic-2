{
 "cells": [
  {
   "cell_type": "markdown",
   "id": "a095aecd",
   "metadata": {},
   "source": [
    "# **[Group 52] - RETAIL AND ECOMMERCE – RECOMMENDATION ENGINE FOR PERSONALIZED SHOPPING**\n",
    "\n",
    "### **Project Overview**\n",
    "This notebook documents the development of an AI-driven recommendation system for an e-commerce platform. The goal is to address declining revenue and low conversion rates by providing personalized product recommendations.\n",
    "\n",
    "We will leverage the **Retailrocket dataset** to build a **Wide & Deep learning model**. This model architecture is ideal for this task as it can both **memorize** simple, direct interaction patterns (e.g., \"popular items are frequently bought\") and **generalize** complex, latent user preferences (e.g., \"users who like this brand of shoes might also like this brand of apparel\").\n",
    "\n",
    "**The project follows these key stages:**\n",
    "1.  **Business & Data Understanding:** Exploring the dataset to understand user behavior and data characteristics.\n",
    "2.  **Data Preparation:** Cleaning, transforming, and engineering features for the model.\n",
    "3.  **Model Development:** Designing and building the Wide & Deep architecture using TensorFlow/Keras.\n",
    "4.  **Training & Evaluation:** Training the model and assessing its performance using metrics like accuracy, precision, and recall.\n",
    "5.  **Inference:** Creating a function to generate real-time recommendations for a given user.\n",
    "\n",
    "---\n",
    "\n",
    "## **1. Setup and Environment**\n",
    "\n",
    "First, let's import the necessary libraries and set up the environment."
   ]
  },
  {
   "cell_type": "code",
   "execution_count": null,
   "id": "360112e5",
   "metadata": {},
   "outputs": [],
   "source": [
    "# Install necessary libraries (if not already installed)\n",
    "# !pip install tensorflow pandas scikit-learn seaborn\n",
    "\n",
    "# --- Core Libraries ---\n",
    "import numpy as np\n",
    "import pandas as pd\n",
    "import matplotlib.pyplot as plt\n",
    "import seaborn as sns\n",
    "import pickle\n",
    "from collections import defaultdict\n",
    "\n",
    "# --- TensorFlow and Keras ---\n",
    "import tensorflow as tf\n",
    "from tensorflow.keras.layers import Input, Dense, Embedding, Flatten, Concatenate, Dropout, Add\n",
    "from tensorflow.keras.models import Model\n",
    "from tensorflow.keras.utils import plot_model\n",
    "\n",
    "# --- Scikit-learn for Preprocessing and Metrics ---\n",
    "from sklearn.model_selection import train_test_split\n",
    "from sklearn.preprocessing import LabelEncoder, MinMaxScaler\n",
    "from sklearn.metrics import classification_report, confusion_matrix\n",
    "\n",
    "# --- Notebook-specific settings ---\n",
    "from IPython.display import Image\n",
    "import warnings\n",
    "warnings.filterwarnings(\"ignore\")\n",
    "\n",
    "# Print TensorFlow version to ensure compatibility\n",
    "print(f\"TensorFlow version: {tf.__version__}\")"
   ]
  },
  {
   "cell_type": "markdown",
   "id": "4d720531",
   "metadata": {},
   "source": [
    "## **2. Data Loading**\n",
    "\n",
    "We will use the Retailrocket dataset from Kaggle. The easiest way to access this in Colab is to upload your `kaggle.json` API key."
   ]
  },
  {
   "cell_type": "code",
   "execution_count": null,
   "id": "fa8158d6",
   "metadata": {},
   "outputs": [],
   "source": [
    "# Step 1: Upload your kaggle.json file\n",
    "from google.colab import files\n",
    "print(\"Please upload your kaggle.json file\")\n",
    "files.upload()\n",
    "\n",
    "# Step 2: Set up Kaggle directory and permissions\n",
    "!mkdir -p ~/.kaggle\n",
    "!cp kaggle.json ~/.kaggle/\n",
    "!chmod 600 ~/.kaggle/kaggle.json\n",
    "\n",
    "# Step 3: Download and unzip the dataset\n",
    "!kaggle datasets download -d retailrocket/ecommerce-dataset\n",
    "!unzip ecommerce-dataset.zip"
   ]
  },
  {
   "cell_type": "markdown",
   "id": "6c321b61",
   "metadata": {},
   "source": [
    "Now, let's load the datasets into Pandas DataFrames."
   ]
  },
  {
   "cell_type": "code",
   "execution_count": null,
   "id": "6e2546d2",
   "metadata": {},
   "outputs": [],
   "source": [
    "# Define file paths\n",
    "events_path = \"events.csv\"\n",
    "item_props1_path = \"item_properties_part1.csv\"\n",
    "item_props2_path = \"item_properties_part2.csv\"\n",
    "category_tree_path = \"category_tree.csv\"\n",
    "\n",
    "# Load CSVs\n",
    "events = pd.read_csv(events_path)\n",
    "item_props1 = pd.read_csv(item_props1_path)\n",
    "item_props2 = pd.read_csv(item_props2_path)\n",
    "category_tree = pd.read_csv(category_tree_path)\n",
    "\n",
    "# Combine item properties for convenience\n",
    "item_props = pd.concat([item_props1, item_props2], axis=0, ignore_index=True)\n",
    "\n",
    "print(\"--- Dataset Shapes ---\")\n",
    "print(\"Events shape:\", events.shape)\n",
    "print(\"Merged item_props shape:\", item_props.shape)\n",
    "print(\"Category tree shape:\", category_tree.shape)"
   ]
  },
  {
   "cell_type": "markdown",
   "id": "e937b8ab",
   "metadata": {},
   "source": [
    "## **3. Business and Data Understanding (EDA)**\n",
    "\n",
    "In this section, we'll perform Exploratory Data Analysis (EDA) to understand the data's structure, identify patterns, and uncover insights that will inform our modeling strategy.\n",
    "\n",
    "### **3.1 A Quick Glance at the Data**\n",
    "\n",
    "Let's look at the first few rows of each DataFrame."
   ]
  },
  {
   "cell_type": "code",
   "execution_count": null,
   "id": "e3032609",
   "metadata": {},
   "outputs": [],
   "source": [
    "print(\"\\nEvents head:\")\n",
    "display(events.head())\n",
    "print(\"\\nItem Props head:\")\n",
    "display(item_props.head())\n",
    "print(\"\\nCategory Tree head:\")\n",
    "display(category_tree.head())"
   ]
  },
  {
   "cell_type": "markdown",
   "id": "a00a61a9",
   "metadata": {},
   "source": [
    "### **3.2 Deep Dive: `events.csv`**\n",
    "\n",
    "This is our primary dataset, containing user interactions."
   ]
  },
  {
   "cell_type": "code",
   "execution_count": null,
   "id": "39ace9f0",
   "metadata": {
    "lines_to_next_cell": 0
   },
   "outputs": [],
   "source": [
    "# Basic info, nulls, and unique values\n",
    "print(\"=== EVENTS DATASET EXPLORATION ===\\n\")\n",
    "print(\"1. Basic Info\")\n",
    "events.info()\n",
    "\n",
    "print(\"\\n2. Null Values per Column (%):\")\n",
    "print((events.isnull().sum() / events.shape[0]) * 100)\n",
    "\n",
    "print(\"\\n3. Unique Value Counts per Column:\")\n",
    "for col_name in events.columns:\n",
    "    unique_vals = events[col_name].nunique()\n",
    "    print(f\"  {col_name}: {unique_vals}\")"
   ]
  },
  {
   "cell_type": "markdown",
   "id": "1c8f5a0e",
   "metadata": {},
   "source": [
    "**Inferences for `events.csv`:**\n",
    "*   **High Nulls in `transactionid`**: Over 99% of `transactionid` values are null. This is expected, as this ID only exists for 'transaction' events, which are rare.\n",
    "*   **Large Scale**: The dataset contains over 2.7 million events from 1.4 million unique visitors and 235k unique items.\n",
    "*   **Data Sparsity**: The high number of users and items relative to events suggests that most users interact with only a few items, a classic \"long-tail\" distribution.\n",
    "\n",
    "#### **Distribution of Event Types**\n",
    "This shows the e-commerce conversion funnel."
   ]
  },
  {
   "cell_type": "code",
   "execution_count": null,
   "id": "e0ff7da1",
   "metadata": {
    "lines_to_next_cell": 0
   },
   "outputs": [],
   "source": [
    "plt.figure(figsize=(8, 5))\n",
    "sns.countplot(x='event', data=events, order=['view', 'addtocart', 'transaction'])\n",
    "plt.title(\"Event Type Distribution (Conversion Funnel)\", fontsize=14)\n",
    "plt.xlabel(\"Event Type\", fontsize=12)\n",
    "plt.ylabel(\"Count (in millions)\", fontsize=12)\n",
    "plt.show()"
   ]
  },
  {
   "cell_type": "markdown",
   "id": "2b5221c0",
   "metadata": {},
   "source": [
    "**Inference:** There's a massive drop-off from `view` to `addtocart`, and another significant drop to `transaction`. Our model's goal is to predict the events on the right side of this funnel, which are valuable but rare.\n",
    "\n",
    "### **3.3 User and Item-Level Analysis**\n",
    "\n",
    "Let's examine how interactions are distributed across users and items."
   ]
  },
  {
   "cell_type": "code",
   "execution_count": null,
   "id": "d8fe968c",
   "metadata": {},
   "outputs": [],
   "source": [
    "# User-level analysis\n",
    "user_event_counts = events.groupby('visitorid')['event'].count()\n",
    "print(\"=== Distribution of events per user ===\")\n",
    "print(user_event_counts.describe())\n",
    "\n",
    "# Item-level analysis\n",
    "item_event_counts = events.groupby('itemid')['event'].count()\n",
    "print(\"\\n=== Distribution of events per item ===\")\n",
    "print(item_event_counts.describe())"
   ]
  },
  {
   "cell_type": "markdown",
   "id": "775fb963",
   "metadata": {},
   "source": [
    "**Inference:** Both user and item interactions are heavily skewed. The median user has only 1 event, and the median item has only 3 events. However, a small number of \"power users\" and \"popular items\" have thousands of interactions. This long-tail distribution is a key challenge for personalization.\n",
    "\n",
    "---\n",
    "\n",
    "## **4. Data Preparation & Feature Engineering**\n",
    "\n",
    "Here, we prepare the data for our Wide & Deep model. This involves creating a target variable, engineering features for the \"wide\" part, and encoding IDs for the \"deep\" part.\n",
    "\n",
    "### **4.1 Creating the Target Variable**\n",
    "\n",
    "Our goal is to predict high-intent actions. We'll define our target `y=1` for `addtocart` or `transaction` events and `y=0` for `view` events."
   ]
  },
  {
   "cell_type": "code",
   "execution_count": null,
   "id": "ec977ee7",
   "metadata": {
    "lines_to_next_cell": 0
   },
   "outputs": [],
   "source": [
    "df = events.copy()\n",
    "df['target'] = df['event'].apply(lambda x: 1 if x in ['addtocart', 'transaction'] else 0)\n",
    "\n",
    "print(\"Target variable distribution:\")\n",
    "print(df['target'].value_counts(normalize=True) * 100)"
   ]
  },
  {
   "cell_type": "markdown",
   "id": "05ff3c14",
   "metadata": {},
   "source": [
    "**Observation:** The positive class (target=1) is only about 3.3% of the dataset. This is a highly imbalanced classification problem.\n",
    "\n",
    "### **4.2 Feature Engineering (for the Wide Branch)**\n",
    "\n",
    "The \"wide\" branch of our model will learn from simple, interpretable features. We will engineer two:\n",
    "1.  **`user_event_count`**: How active is this user?\n",
    "2.  **`item_event_count`**: How popular is this item?"
   ]
  },
  {
   "cell_type": "code",
   "execution_count": null,
   "id": "7eebd25d",
   "metadata": {},
   "outputs": [],
   "source": [
    "# Compute user and item interaction counts\n",
    "user_event_count_dict = df.groupby('visitorid')['event'].count().to_dict()\n",
    "item_event_count_dict = df.groupby('itemid')['event'].count().to_dict()\n",
    "\n",
    "# A placeholder for item availability (can be enhanced with item_props data)\n",
    "item_available_dict = {item_id: 1 for item_id in df['itemid'].unique()}\n",
    "\n",
    "print(f\"Created user count dict for {len(user_event_count_dict)} users.\")\n",
    "print(f\"Created item count dict for {len(item_event_count_dict)} items.\")"
   ]
  },
  {
   "cell_type": "markdown",
   "id": "43cfe4a0",
   "metadata": {},
   "source": [
    "### **4.3 Data Transformation**\n",
    "\n",
    "We need to transform our features into a format the model can accept.\n",
    "\n",
    "#### **A. Normalizing Wide Features**\n",
    "We scale the count features to a [0, 1] range to prevent features with large values from dominating the model."
   ]
  },
  {
   "cell_type": "code",
   "execution_count": null,
   "id": "755e51a6",
   "metadata": {},
   "outputs": [],
   "source": [
    "# Create arrays for scaling\n",
    "user_ids_arr = list(user_event_count_dict.keys())\n",
    "user_counts_arr = np.array(list(user_event_count_dict.values()), dtype=float).reshape(-1, 1)\n",
    "\n",
    "item_ids_arr = list(item_event_count_dict.keys())\n",
    "item_counts_arr = np.array(list(item_event_count_dict.values()), dtype=float).reshape(-1, 1)\n",
    "\n",
    "# Scale using MinMaxScaler\n",
    "scaler_user = MinMaxScaler()\n",
    "user_counts_scaled = scaler_user.fit_transform(user_counts_arr)\n",
    "\n",
    "scaler_item = MinMaxScaler()\n",
    "item_counts_scaled = scaler_item.fit_transform(item_counts_arr)\n",
    "\n",
    "# Update dictionaries with scaled values\n",
    "for i, uid in enumerate(user_ids_arr):\n",
    "    user_event_count_dict[uid] = user_counts_scaled[i][0]\n",
    "for i, iid in enumerate(item_ids_arr):\n",
    "    item_event_count_dict[iid] = item_counts_scaled[i][0]\n",
    "\n",
    "print(\"User and item counts have been scaled.\")"
   ]
  },
  {
   "cell_type": "markdown",
   "id": "50d8051a",
   "metadata": {},
   "source": [
    "#### **B. Encoding Deep Features**\n",
    "The \"deep\" branch needs integer indices for its embedding layers. We use `LabelEncoder` for `visitorid` and `itemid`."
   ]
  },
  {
   "cell_type": "code",
   "execution_count": null,
   "id": "e0eb0266",
   "metadata": {},
   "outputs": [],
   "source": [
    "visitor_encoder = LabelEncoder()\n",
    "item_encoder = LabelEncoder()\n",
    "\n",
    "df['visitor_enc'] = visitor_encoder.fit_transform(df['visitorid'])\n",
    "df['item_enc'] = item_encoder.fit_transform(df['itemid'])\n",
    "\n",
    "print(\"Visitor and Item IDs have been label encoded.\")"
   ]
  },
  {
   "cell_type": "markdown",
   "id": "c27b7911",
   "metadata": {},
   "source": [
    "### **4.4 Assembling the Final Datasets**\n",
    "\n",
    "Now, we construct the final input arrays for our model: one for the wide branch and one for the deep branch."
   ]
  },
  {
   "cell_type": "code",
   "execution_count": null,
   "id": "5286876e",
   "metadata": {},
   "outputs": [],
   "source": [
    "# Assemble wide features\n",
    "wide_features = np.array(df.apply(\n",
    "    lambda row: [\n",
    "        user_event_count_dict.get(row['visitorid'], 0.0),\n",
    "        item_event_count_dict.get(row['itemid'], 0.0),\n",
    "        item_available_dict.get(row['itemid'], 0)\n",
    "    ],\n",
    "    axis=1\n",
    ").tolist())\n",
    "\n",
    "# Assemble deep features\n",
    "deep_features = df[['visitor_enc', 'item_enc']].values\n",
    "\n",
    "# Labels\n",
    "labels = df['target'].values\n",
    "\n",
    "# Train/Validation Split\n",
    "(\n",
    "    wide_features_train, wide_features_val,\n",
    "    deep_features_train, deep_features_val,\n",
    "    y_train, y_val\n",
    ") = train_test_split(\n",
    "    wide_features,\n",
    "    deep_features,\n",
    "    labels,\n",
    "    test_size=0.2,\n",
    "    random_state=42,\n",
    "    stratify=labels  # Important for imbalanced data\n",
    ")\n",
    "\n",
    "print(\"--- Final Dataset Shapes ---\")\n",
    "print(\"Wide Features Train Shape:\", wide_features_train.shape)\n",
    "print(\"Deep Features Train Shape:\", deep_features_train.shape)\n",
    "print(\"Labels Train Shape:\", y_train.shape)\n",
    "print(\"Wide Features Val Shape:\", wide_features_val.shape)\n",
    "print(\"Deep Features Val Shape:\", deep_features_val.shape)\n",
    "print(\"Labels Val Shape:\", y_val.shape)"
   ]
  },
  {
   "cell_type": "markdown",
   "id": "e14dc320",
   "metadata": {},
   "source": [
    "### **4.5 Save Preprocessing Objects for Inference**\n",
    "\n",
    "It's crucial to save the encoders and dictionaries so we can apply the exact same transformations during prediction time."
   ]
  },
  {
   "cell_type": "code",
   "execution_count": null,
   "id": "f49a882d",
   "metadata": {},
   "outputs": [],
   "source": [
    "# Save dictionaries\n",
    "with open('wide_features_dicts.pkl', 'wb') as f:\n",
    "    pickle.dump({\n",
    "        'user_event_count_dict': user_event_count_dict,\n",
    "        'item_event_count_dict': item_event_count_dict,\n",
    "        'item_available_dict': item_available_dict\n",
    "    }, f)\n",
    "\n",
    "# Save encoders\n",
    "with open('visitor_encoder.pkl', 'wb') as f:\n",
    "    pickle.dump(visitor_encoder, f)\n",
    "with open('item_encoder.pkl', 'wb') as f:\n",
    "    pickle.dump(item_encoder, f)\n",
    "\n",
    "print(\"Preprocessing objects saved successfully.\")"
   ]
  },
  {
   "cell_type": "markdown",
   "id": "ffe34e58",
   "metadata": {},
   "source": [
    "---\n",
    "## **5. Model Development (Wide & Deep)**\n",
    "\n",
    "Now we define our model architecture.\n",
    "\n",
    "### **5.1 Defining Callbacks**\n",
    "\n",
    "Callbacks help manage the training process by saving the best model, stopping training early if there's no improvement, and adjusting the learning rate."
   ]
  },
  {
   "cell_type": "code",
   "execution_count": null,
   "id": "a491042d",
   "metadata": {},
   "outputs": [],
   "source": [
    "# EarlyStopping to prevent overfitting\n",
    "early_stop = tf.keras.callbacks.EarlyStopping(\n",
    "    monitor='val_loss',\n",
    "    patience=5,\n",
    "    restore_best_weights=True,\n",
    "    verbose=1\n",
    ")\n",
    "\n",
    "# ModelCheckpoint to save the best model\n",
    "model_ckpt = tf.keras.callbacks.ModelCheckpoint(\n",
    "    filepath='best_model.keras',\n",
    "    monitor='val_loss',\n",
    "    save_best_only=True,\n",
    "    verbose=1\n",
    ")\n",
    "\n",
    "# ReduceLROnPlateau to adjust learning rate\n",
    "reduce_lr = tf.keras.callbacks.ReduceLROnPlateau(\n",
    "    monitor='val_loss',\n",
    "    factor=0.5,\n",
    "    patience=2,\n",
    "    min_lr=1e-6,\n",
    "    verbose=1\n",
    ")\n",
    "\n",
    "callbacks = [early_stop, model_ckpt, reduce_lr]"
   ]
  },
  {
   "cell_type": "markdown",
   "id": "4f6bfcaf",
   "metadata": {},
   "source": [
    "### **5.2 Building the Model Architecture**\n",
    "\n",
    "We'll build the two branches and then combine them."
   ]
  },
  {
   "cell_type": "code",
   "execution_count": null,
   "id": "19f1ab01",
   "metadata": {},
   "outputs": [],
   "source": [
    "# --- Parameters ---\n",
    "wide_dim = wide_features_train.shape[1]\n",
    "max_visitor_id = df['visitor_enc'].max() + 1\n",
    "max_item_id = df['item_enc'].max() + 1\n",
    "embedding_dim = 8\n",
    "\n",
    "# --- Wide Branch (Memorization) ---\n",
    "wide_input = Input(shape=(wide_dim,), name=\"wide_input\")\n",
    "wide_output = Dense(1, activation=\"sigmoid\", name=\"wide_output\")(wide_input)\n",
    "\n",
    "# --- Deep Branch (Generalization) ---\n",
    "deep_input = Input(shape=(2,), name=\"deep_input\")\n",
    "\n",
    "# Embeddings for categorical features\n",
    "visitor_ids = deep_input[:, 0]\n",
    "item_ids = deep_input[:, 1]\n",
    "\n",
    "visitor_embed = Embedding(input_dim=max_visitor_id, output_dim=embedding_dim, name=\"visitor_embedding\")(visitor_ids)\n",
    "item_embed = Embedding(input_dim=max_item_id, output_dim=embedding_dim, name=\"item_embedding\")(item_ids)\n",
    "\n",
    "# Flatten and concatenate embeddings\n",
    "visitor_flat = Flatten()(visitor_embed)\n",
    "item_flat = Flatten()(item_embed)\n",
    "deep_concat = Concatenate(name=\"deep_concat\")([visitor_flat, item_flat])\n",
    "\n",
    "# Dense layers with dropout for regularization\n",
    "deep_dense1 = Dense(64, activation=\"relu\", name=\"deep_dense1\")(deep_concat)\n",
    "drop1 = Dropout(0.3, name=\"dropout1\")(deep_dense1)\n",
    "deep_dense2 = Dense(32, activation=\"relu\", name=\"deep_dense2\")(drop1)\n",
    "drop2 = Dropout(0.3, name=\"dropout2\")(deep_dense2)\n",
    "deep_output = Dense(1, activation=\"sigmoid\", name=\"deep_output\")(drop2)\n",
    "\n",
    "# --- Combine Branches ---\n",
    "combined = Add(name=\"wide_deep_merge\")([wide_output, deep_output])\n",
    "final_output = Dense(1, activation=\"sigmoid\", name=\"final_output\")(combined)\n",
    "\n",
    "# --- Create and Compile Model ---\n",
    "model = Model(inputs=[wide_input, deep_input], outputs=final_output)\n",
    "model.compile(\n",
    "    optimizer=\"adam\",\n",
    "    loss=\"binary_crossentropy\",\n",
    "    metrics=[\"accuracy\", tf.keras.metrics.Precision(name='precision'), tf.keras.metrics.Recall(name='recall')]\n",
    ")\n",
    "\n",
    "model.summary()"
   ]
  },
  {
   "cell_type": "markdown",
   "id": "185f0472",
   "metadata": {},
   "source": [
    "Let's visualize the architecture."
   ]
  },
  {
   "cell_type": "code",
   "execution_count": null,
   "id": "feb2a96d",
   "metadata": {},
   "outputs": [],
   "source": [
    "plot_model(model, to_file=\"wide_deep_model.png\", show_shapes=True, show_layer_names=True)\n",
    "Image(\"wide_deep_model.png\")"
   ]
  },
  {
   "cell_type": "markdown",
   "id": "b031d80f",
   "metadata": {},
   "source": [
    "---\n",
    "## **6. Model Training**\n",
    "\n",
    "We're now ready to train the model using our prepared datasets."
   ]
  },
  {
   "cell_type": "code",
   "execution_count": null,
   "id": "e24ff109",
   "metadata": {},
   "outputs": [],
   "source": [
    "history = model.fit(\n",
    "    x=[wide_features_train, deep_features_train],\n",
    "    y=y_train,\n",
    "    validation_data=([wide_features_val, deep_features_val], y_val),\n",
    "    epochs=50,  # A high number, early stopping will handle the rest\n",
    "    batch_size=1024, # Increased batch size for faster training\n",
    "    callbacks=callbacks,\n",
    "    verbose=1\n",
    ")"
   ]
  },
  {
   "cell_type": "markdown",
   "id": "2d5f0c3f",
   "metadata": {},
   "source": [
    "### **Visualizing Training History**\n",
    "\n",
    "Let's plot the training and validation metrics to check for overfitting and see how the model learned."
   ]
  },
  {
   "cell_type": "code",
   "execution_count": null,
   "id": "25ded86f",
   "metadata": {},
   "outputs": [],
   "source": [
    "def plot_training_history(history):\n",
    "    fig, (ax1, ax2) = plt.subplots(1, 2, figsize=(16, 6))\n",
    "\n",
    "    # Plot Accuracy\n",
    "    ax1.plot(history.history['accuracy'], label='Train Accuracy')\n",
    "    ax1.plot(history.history['val_accuracy'], label='Val Accuracy')\n",
    "    ax1.set_title(\"Model Accuracy over Epochs\")\n",
    "    ax1.set_xlabel(\"Epoch\")\n",
    "    ax1.set_ylabel(\"Accuracy\")\n",
    "    ax1.legend()\n",
    "\n",
    "    # Plot Loss\n",
    "    ax2.plot(history.history['loss'], label='Train Loss')\n",
    "    ax2.plot(history.history['val_loss'], label='Val Loss')\n",
    "    ax2.set_title(\"Model Loss over Epochs\")\n",
    "    ax2.set_xlabel(\"Epoch\")\n",
    "    ax2.set_ylabel(\"Loss\")\n",
    "    ax2.legend()\n",
    "\n",
    "    plt.tight_layout()\n",
    "    plt.show()\n",
    "\n",
    "plot_training_history(history)"
   ]
  },
  {
   "cell_type": "markdown",
   "id": "6f904291",
   "metadata": {},
   "source": [
    "---\n",
    "## **7. Model Evaluation**\n",
    "\n",
    "Now, we'll load the best-performing model (saved by `ModelCheckpoint`) and evaluate it on our validation set.\n",
    "\n",
    "### **7.1 Load Best Model and Make Predictions**"
   ]
  },
  {
   "cell_type": "code",
   "execution_count": null,
   "id": "1b429277",
   "metadata": {},
   "outputs": [],
   "source": [
    "# Load the best model saved during training\n",
    "best_model = tf.keras.models.load_model('best_model.keras')\n",
    "\n",
    "# Generate predictions (probabilities)\n",
    "val_probs = best_model.predict([wide_features_val, deep_features_val]).ravel()\n",
    "\n",
    "# Convert probabilities to binary predictions (0 or 1)\n",
    "val_preds = (val_probs > 0.5).astype(int)"
   ]
  },
  {
   "cell_type": "markdown",
   "id": "677da567",
   "metadata": {},
   "source": [
    "### **7.2 Performance Assessment**\n",
    "\n",
    "We'll use a classification report and confusion matrix to get a detailed view of performance."
   ]
  },
  {
   "cell_type": "code",
   "execution_count": null,
   "id": "14cb5424",
   "metadata": {
    "lines_to_next_cell": 0
   },
   "outputs": [],
   "source": [
    "print(\"--- Classification Report ---\\n\")\n",
    "print(classification_report(y_val, val_preds, target_names=['View (0)', 'Purchase Intent (1)']))\n",
    "\n",
    "print(\"\\n--- Confusion Matrix ---\")\n",
    "cm = confusion_matrix(y_val, val_preds)\n",
    "plt.figure(figsize=(8, 6))\n",
    "sns.heatmap(cm, annot=True, fmt='d', cmap='Blues',\n",
    "            xticklabels=['Predicted 0', 'Predicted 1'],\n",
    "            yticklabels=['Actual 0', 'Actual 1'])\n",
    "plt.title('Confusion Matrix', fontsize=16)\n",
    "plt.ylabel('Actual Label', fontsize=12)\n",
    "plt.xlabel('Predicted Label', fontsize=12)\n",
    "plt.show()"
   ]
  },
  {
   "cell_type": "markdown",
   "id": "5d1cd293",
   "metadata": {},
   "source": [
    "**Evaluation Insights:**\n",
    "*   **High Accuracy (96%)**: The model is correct most of the time. This is expected given the class imbalance (it's easy to be right by always predicting '0').\n",
    "*   **High Precision (71%)**: This is our key success metric. When the model predicts a user has purchase intent, it's correct 71% of the time. This builds user trust, as the recommendations are highly relevant.\n",
    "*   **Low Recall (14%)**: The model misses many of the actual purchase intents. This is a trade-off we accept to ensure high precision. It's better to show fewer, highly accurate recommendations than to spam the user with many irrelevant ones.\n",
    "\n",
    "---\n",
    "\n",
    "## **8. Recommendation Generation (Inference)**\n",
    "\n",
    "This final section simulates how the trained model would be used to generate recommendations in a live system. We'll create a function that takes a user ID and a list of candidate items, and returns the top 5 recommended items.\n",
    "\n",
    "### **8.1 Load Saved Preprocessing Objects**\n",
    "\n",
    "First, load the objects we saved earlier."
   ]
  },
  {
   "cell_type": "code",
   "execution_count": null,
   "id": "395ade93",
   "metadata": {},
   "outputs": [],
   "source": [
    "# Load dictionaries\n",
    "with open('wide_features_dicts.pkl', 'rb') as f:\n",
    "    dicts = pickle.load(f)\n",
    "    user_event_count_dict = dicts['user_event_count_dict']\n",
    "    item_event_count_dict = dicts['item_event_count_dict']\n",
    "    item_available_dict = dicts['item_available_dict']\n",
    "\n",
    "# Load encoders\n",
    "with open('visitor_encoder.pkl', 'rb') as f:\n",
    "    visitor_encoder_loaded = pickle.load(f)\n",
    "with open('item_encoder.pkl', 'rb') as f:\n",
    "    item_encoder_loaded = pickle.load(f)\n",
    "\n",
    "print(\"Inference objects loaded.\")"
   ]
  },
  {
   "cell_type": "markdown",
   "id": "e0e6e88d",
   "metadata": {},
   "source": [
    "### **8.2 Recommendation Function**\n",
    "\n",
    "This function encapsulates the entire prediction pipeline."
   ]
  },
  {
   "cell_type": "code",
   "execution_count": null,
   "id": "87b709b1",
   "metadata": {},
   "outputs": [],
   "source": [
    "def get_top_n_recommendations(user_id, candidate_items, n=5):\n",
    "    \"\"\"\n",
    "    Generates top N recommendations for a given user from a list of candidate items.\n",
    "\n",
    "    Args:\n",
    "        user_id (int): The original visitorid.\n",
    "        candidate_items (list): A list of original itemids to score.\n",
    "        n (int): The number of recommendations to return.\n",
    "\n",
    "    Returns:\n",
    "        list: A list of tuples, where each tuple is (item_id, probability_score).\n",
    "    \"\"\"\n",
    "    wide_list = []\n",
    "    deep_list = []\n",
    "\n",
    "    # Encode user ID (handle unseen users)\n",
    "    try:\n",
    "        user_enc = visitor_encoder_loaded.transform([user_id])[0]\n",
    "    except ValueError:\n",
    "        user_enc = len(visitor_encoder_loaded.classes_) # Fallback for new user\n",
    "\n",
    "    for item_id in candidate_items:\n",
    "        # --- Prepare Deep Features ---\n",
    "        try:\n",
    "            item_enc = item_encoder_loaded.transform([item_id])[0]\n",
    "        except ValueError:\n",
    "            item_enc = len(item_encoder_loaded.classes_) # Fallback for new item\n",
    "        deep_list.append([user_enc, item_enc])\n",
    "\n",
    "        # --- Prepare Wide Features ---\n",
    "        u_count = user_event_count_dict.get(user_id, 0.0)\n",
    "        i_count = item_event_count_dict.get(item_id, 0.0)\n",
    "        avail = item_available_dict.get(item_id, 0) # Assumes 0 if not in dict\n",
    "        wide_list.append([u_count, i_count, avail])\n",
    "\n",
    "    # Convert to numpy arrays for the model\n",
    "    wide_array = np.array(wide_list, dtype=np.float32)\n",
    "    deep_array = np.array(deep_list, dtype=np.float32)\n",
    "\n",
    "    # Predict probabilities\n",
    "    pred_probs = best_model.predict([wide_array, deep_array]).ravel()\n",
    "\n",
    "    # Get top N items\n",
    "    # We use argsort to get indices, then reverse and take top N\n",
    "    sorted_indices = np.argsort(-pred_probs)\n",
    "    top_n_indices = sorted_indices[:n]\n",
    "\n",
    "    # Create the final recommendation list\n",
    "    recommendations = [\n",
    "        (candidate_items[i], pred_probs[i]) for i in top_n_indices\n",
    "    ]\n",
    "\n",
    "    return recommendations\n"
   ]
  },
  {
   "cell_type": "markdown",
   "id": "abd86d1c",
   "metadata": {},
   "source": [
    "### **8.3 Example Usage**\n",
    "\n",
    "Let's test our function with a sample user and some candidate items."
   ]
  },
  {
   "cell_type": "code",
   "execution_count": null,
   "id": "51663f5e",
   "metadata": {},
   "outputs": [],
   "source": [
    "# Example: Recommend items for a user\n",
    "# Let's pick a real user and some real items from the dataset\n",
    "example_user_id = events['visitorid'].value_counts().index[100] # A moderately active user\n",
    "candidate_items_example = events['itemid'].value_counts().index[100:110].tolist() # Some moderately popular items\n",
    "\n",
    "print(f\"Generating recommendations for User ID: {example_user_id}\")\n",
    "print(f\"Scoring these candidate items: {candidate_items_example}\\n\")\n",
    "\n",
    "recommendations = get_top_n_recommendations(example_user_id, candidate_items_example, n=5)\n",
    "\n",
    "print(\"--- Top 5 Recommendations ---\")\n",
    "for item_id, prob in recommendations:\n",
    "    print(f\"Item ID: {item_id:<10} | Predicted Purchase Probability: {prob:.4f}\")"
   ]
  },
  {
   "cell_type": "markdown",
   "id": "5ab872e1",
   "metadata": {},
   "source": [
    "---\n",
    "\n",
    "## **9. Conclusion and Next Steps**\n",
    "\n",
    "### **Conclusion**\n",
    "This project successfully developed a Wide & Deep recommendation model capable of predicting user purchase intent with **96% accuracy** and, more importantly, **71% precision**. We built an end-to-end pipeline from data exploration and feature engineering to model training and a functional inference prototype. The high precision of the model ensures that recommendations are relevant, directly addressing the business goal of reducing user friction and improving the shopping experience.\n",
    "\n",
    "### **Future Enhancements**\n",
    "1.  **Enrich Features:** Integrate data from `item_properties.csv` (e.g., category, brand) and `category_tree.csv` to give the model more context about the items, improving its generalization ability.\n",
    "2.  **Handle Cold Start:** Implement strategies for new users and items, such as using content-based features for new items or defaulting to \"most popular\" recommendations for new users.\n",
    "3.  **Explore Session-Based Models:** For more dynamic recommendations, explore sequence-aware models like LSTMs, GRUs, or Transformers that can understand the user's actions within their current session.\n",
    "4.  **Address Class Imbalance:** Experiment with techniques like SMOTE (oversampling) or using class weights during training to potentially improve the model's recall without sacrificing too much precision."
   ]
  }
 ],
 "metadata": {
  "jupytext": {
   "cell_metadata_filter": "-all",
   "main_language": "python",
   "notebook_metadata_filter": "-all"
  }
 },
 "nbformat": 4,
 "nbformat_minor": 5
}
